{
 "cells": [
  {
   "cell_type": "markdown",
   "metadata": {},
   "source": [
    "# C++ good problem's core \n"
   ]
  },
  {
   "cell_type": "markdown",
   "metadata": {},
   "source": [
    "### [1. Triplet Sum](https://practice.geeksforgeeks.org/problems/count-the-triplets/0)\n",
    "\n",
    "   ##### Approaches:\n",
    "        1. linear search for every pair.  T(n)=n^3  (Brute Force)\n",
    "        2. Sort and the binary search for every pair  T(n)= n^2 logn \n",
    "        3. Sort and two pointer algorithm for triplets  T(n) = n^2 \n",
    "            1. Sort the vector\n",
    "            2.Try two pointer algorithm\n",
    "            \n",
    "                For(n-1 till i=2): // we have to see which two elements sum is equal to last element.\n",
    "                Step1: Maintain two pointer one starting from 0 and other one from n-2.\n",
    "\n",
    "                Step2: Check if sum of two such elements equal to the (n-1)th element of array if so then increase count and \n",
    "                increment one pointer ahead by 1 and decerement other pointer by 1.\n",
    "                \n",
    "                Step3: If sum is less, then move starting pointer ahead only.\n",
    "                \n",
    "                Step4: if sum is more, then decrement end pointer by 1 only."
   ]
  },
  {
   "cell_type": "markdown",
   "metadata": {},
   "source": [
    "### [2. Maximum Sub Array Sum](https://practice.geeksforgeeks.org/problems/kadanes-algorithm/0)\n",
    "\n",
    "#### Approaches:\n",
    "\n",
    "        1. linearly finding sum of subsets  T(n) = n^2      (Brute Force)\n",
    "        2. Kadane's Algorithm  T(n) = n \n",
    "\t\t\t\t\n",
    "            Kadane's Algorithm: (start from nth pos in array and see if max array sum till n-1th + n > nth element and set\n",
    "            local max and in the process keep record of global max. Repeat this using recurrsion. \n",
    "\t\t\t\t\n",
    "\t\t\t\t\tInitialize:\n",
    "\t\t\t\t\t\tmax_so_far = 0\n",
    "\t\t\t\t\t\tmax_ending_here = 0\n",
    "\n",
    "\t\t\t\t\tLoop for each element of the array\n",
    "\t\t\t\t\t  (a) max_ending_here = max_ending_here + a[i]\n",
    "\t\t\t\t\t  (b) if(max_ending_here < 0)\n",
    "\t\t\t\t\t\t\t\tmax_ending_here = 0\n",
    "\t\t\t\t\t  (c) if(max_so_far < max_ending_here)\n",
    "\t\t\t\t\t\t\t\tmax_so_far = max_ending_here\n",
    "\t\t\t\t\treturn max_so_far\n"
   ]
  },
  {
   "cell_type": "markdown",
   "metadata": {},
   "source": [
    "### [3. Reversing Subgroups of array](https://practice.geeksforgeeks.org/problems/reverse-array-in-groups/0)"
   ]
  },
  {
   "cell_type": "markdown",
   "metadata": {},
   "source": [
    "#### Approaches:"
   ]
  },
  {
   "cell_type": "markdown",
   "metadata": {},
   "source": [
    "        1. Use stack for each group to reverse and queue and vector to maintain the rest"
   ]
  },
  {
   "cell_type": "markdown",
   "metadata": {},
   "source": [
    "### [4. Number of inversions](https://practice.geeksforgeeks.org/problems/inversion-of-array/0/)"
   ]
  },
  {
   "cell_type": "markdown",
   "metadata": {},
   "source": [
    "#### Approahes:\n"
   ]
  },
  {
   "cell_type": "markdown",
   "metadata": {},
   "source": [
    "1. For each element findout the number of element greater than itself at the right of that element. T(n) = O(n^2) \n",
    "2. Use merge sort to find the no. of inversions as it compares all the elements T(n) = O(nlog(n))\n",
    "\t\t\t\t\n",
    "Approach 2. While merging two already sorted list whenever a[left]>a[right] , increment number of inversions by number of elements at right side of the \"left\" position in vector a.\n",
    "\t\t\t\t"
   ]
  },
  {
   "cell_type": "markdown",
   "metadata": {},
   "source": [
    "#### Code: (Approach 2)\n",
    "```\n",
    "long long int merge(int v[],int left, int right, int q, long long inv){\n",
    "\t\t\t\t\tint n1 = q-left+1, n2=right-q; \n",
    "\t\t\t\t\tint a[n1],b[n2];\n",
    "\n",
    "\t\t\t\t\tfor(int i = 0, x=0;i<n1;i++){\n",
    "\t\t\t\t\t\ta[i] = v[left+i];\n",
    "\t\t\t\t\t}\n",
    "\t\t\t\t\tfor(int i = 0,x=0;i<n2;i++){\n",
    "\t\t\t\t\t\tb[i] = v[q+i+1];\n",
    "\t\t\t\t\t}\n",
    "\t\t\t\t\t// cout<<\"left right q \"<<left<<' '<<right<<' '<<q<<endl;\n",
    "\t\t\t\t\tint i = 0, j=0, p = left;\n",
    "\t\t\t\t\twhile(i<n1 && j<n2){\n",
    "\t\t\t\t\t\tif(a[i] <= b[j]){\n",
    "\t\t\t\t\t\t\tv[p] = a[i];\n",
    "\t\t\t\t\t\t\tp++;i++;\n",
    "\t\t\t\t\t\t\t\n",
    "\t\t\t\t\t\t}\n",
    "\t\t\t\t\t\telse{\n",
    "\t\t\t\t\t\t\tv[p] = b[j];\n",
    "\t\t\t\t\t\t\tp++;j++;\n",
    "\t\t\t\t\t\t\tinv = inv + n1 - i;\n",
    "\t\t\t\t\t\t}\n",
    "\t\t\t\t\t}\n",
    "\t\t\t\t\twhile(i<n1){\n",
    "\t\t\t\t\t\tv[p]=a[i];\n",
    "\t\t\t\t\t\tp++;i++;\n",
    "\t\t\t\t\t}\n",
    "\t\t\t\t\twhile(j<n2){\n",
    "\t\t\t\t\t\tv[p] = b[j];\n",
    "\t\t\t\t\t\tp++;j++;\n",
    "\t\t\t\t\t}\n",
    "\t\t\t\t\treturn inv;\n",
    "\t\t\t\t\t\n",
    "\t\t\t\t}\n",
    "\n",
    "long long int merge_sort(int a[],int left,int right,long long int inv)\n",
    "\t\t\t\t if(left<right){\n",
    "\t\t\t\t\tint q = (left+right)/2;\n",
    "\t\t\t\t\tx= merge_sort(v,left,q, inv);\n",
    "\t\t\t\t    y= merge_sort(v,q+1,right,inv);\n",
    "\t\t\t\t\tinv= x + y + merge(v,left,right,q,inv);\n",
    "\t\t\t\t\treturn inv;\n",
    "```"
   ]
  },
  {
   "cell_type": "markdown",
   "metadata": {},
   "source": [
    "### [5. Minimum number of train platforms required](https://practice.geeksforgeeks.org/problems/minimum-platforms/0)"
   ]
  },
  {
   "cell_type": "markdown",
   "metadata": {},
   "source": [
    "#### Approaches:"
   ]
  },
  {
   "cell_type": "markdown",
   "metadata": {},
   "source": [
    "1. Use ***multimaps*** to store arrival and departure times like (10:00,'a'),(11:30,'d'). By default multimaps are sorted on the first key so we can easily count maximum number of platforms required by keeping the track of number of trains arrived butnot yet departed till a particular time. T(n) = O(n)"
   ]
  },
  {
   "cell_type": "markdown",
   "metadata": {},
   "source": [
    "### [6. Maximum of all subarrays of size k](https://practice.geeksforgeeks.org/problems/maximum-of-all-subarrays-of-size-k/0/)"
   ]
  },
  {
   "cell_type": "markdown",
   "metadata": {},
   "source": [
    "#### Approaches:"
   ]
  },
  {
   "cell_type": "markdown",
   "metadata": {},
   "source": [
    "1. Using brute force method i.e finding maximum for each window linearly. ```T(n) = O(n^2)```\n",
    "2. Using hashmaps. Pushing contents of window into hashmaps and finding max. Insertion and Deletion from hashmaps takes O(logn) time as hashmap uses Balance BST to store data and they keep them in sorted order. ```T(n) = O(nlogn)```\n",
    "3. Using **Deque**. (In Deque insertion and deletion at both end is possible and it keeps the element sorted). ```T(n) = O(n)```\n",
    "    \n",
    "    Algo for Deque approach:\n",
    "    \n"
   ]
  },
  {
   "cell_type": "markdown",
   "metadata": {},
   "source": [
    "```Let total array size is n and window size is k and deque size is also k. Remeber: Deque will only store indeces as it already will be in sorted order.\n",
    "    \n",
    "   Step 1: for i=0  to k-1                                        (first window):\n",
    "                 \n",
    "                 a. if q is empty then q.push_back(i)\n",
    "                    else:\n",
    "                      while (q is not empty and a[i]>a[q.back()] ):\n",
    "                          q.pop_back(i)\n",
    "                      q.push_back(i)\n",
    "                 b. print a[q.front()]                            (max of first window)\n",
    "   \n",
    "   Step 2: for i=k till n-1                                       (for rest of the windows)\n",
    "                 \n",
    "                 a. if q.front()<n-k+1 then q.pop_front()         (if new window contains index out of window i.e of \n",
    "                                                                   previous window then remove it)\n",
    "                 \n",
    "                    else:\n",
    "                        if q is empty then q.push_back(i)\n",
    "                        else:\n",
    "                          while (q is not empty and a[i]>a[q.back()] ):\n",
    "                              q.pop_back(i)\n",
    "                          q.push_back(i)\n",
    "                          \n",
    "                 b. print a[q.front()]                             (maximum of new window)\n",
    "                    \n",
    "                \n",
    "```"
   ]
  },
  {
   "cell_type": "code",
   "execution_count": null,
   "metadata": {},
   "outputs": [],
   "source": []
  }
 ],
 "metadata": {
  "kernelspec": {
   "display_name": "Python 3",
   "language": "python",
   "name": "python3"
  },
  "language_info": {
   "codemirror_mode": {
    "name": "ipython",
    "version": 3
   },
   "file_extension": ".py",
   "mimetype": "text/x-python",
   "name": "python",
   "nbconvert_exporter": "python",
   "pygments_lexer": "ipython3",
   "version": "3.8.5"
  }
 },
 "nbformat": 4,
 "nbformat_minor": 4
}
