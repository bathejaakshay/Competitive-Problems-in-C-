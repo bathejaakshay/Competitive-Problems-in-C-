{
 "cells": [
  {
   "cell_type": "markdown",
   "metadata": {},
   "source": [
    "# C++ star problem's core \n"
   ]
  },
  {
   "cell_type": "markdown",
   "metadata": {},
   "source": [
    "### [1. Triplet Sum](https://practice.geeksforgeeks.org/problems/count-the-triplets/0)\n",
    "\n",
    "   ##### Approaches:\n",
    "        1. linear search for every pair.  T(n)=n^3  (Brute Force)\n",
    "        2. Sort and the binary search for every pair  T(n)= n^2 logn \n",
    "        3. Sort and two pointer algorithm for triplets  T(n) = n^2 \n",
    "            1. Sort the vector\n",
    "            2.Try two pointer algorithm\n",
    "            \n",
    "                For(n-1 till i=2): // we have to see which two elements sum is equal to last element.\n",
    "                Step1: Maintain two pointer one starting from 0 and other one from n-2.\n",
    "\n",
    "                Step2: Check if sum of two such elements equal to the (n-1)th element of array if so then increase count and \n",
    "                increment one pointer ahead by 1 and decerement other pointer by 1.\n",
    "                \n",
    "                Step3: If sum is less, then move starting pointer ahead only.\n",
    "                \n",
    "                Step4: if sum is more, then decrement end pointer by 1 only."
   ]
  },
  {
   "cell_type": "markdown",
   "metadata": {},
   "source": [
    "#### [Code : Triplet Sum](https://github.com/bathejaakshay/Competitive-Problems-in-C-/blob/master/Source%20Code/triplets.cpp)"
   ]
  },
  {
   "cell_type": "markdown",
   "metadata": {},
   "source": [
    "### [2. Maximum Sub Array Sum](https://practice.geeksforgeeks.org/problems/kadanes-algorithm/0)\n",
    "\n",
    "#### Approaches:\n",
    "\n",
    "        1. linearly finding sum of subsets  T(n) = n^2      (Brute Force)\n",
    "        2. Kadane's Algorithm  T(n) = n \n",
    "\t\t\t\t\n",
    "            Kadane's Algorithm: (start from nth pos in array and see if max array sum till n-1th + n > nth element and set\n",
    "            local max and in the process keep record of global max. Repeat this using recurrsion. \n",
    "\t\t\t\t\n",
    "\t\t\t\t\tInitialize:\n",
    "\t\t\t\t\t\tmax_so_far = 0\n",
    "\t\t\t\t\t\tmax_ending_here = 0\n",
    "\n",
    "\t\t\t\t\tLoop for each element of the array\n",
    "\t\t\t\t\t  (a) max_ending_here = max_ending_here + a[i]\n",
    "\t\t\t\t\t  (b) if(max_ending_here < 0)\n",
    "\t\t\t\t\t\t\t\tmax_ending_here = 0\n",
    "\t\t\t\t\t  (c) if(max_so_far < max_ending_here)\n",
    "\t\t\t\t\t\t\t\tmax_so_far = max_ending_here\n",
    "\t\t\t\t\treturn max_so_far\n"
   ]
  },
  {
   "cell_type": "markdown",
   "metadata": {},
   "source": [
    "#### [Code : Kadane](https://github.com/bathejaakshay/Competitive-Problems-in-C-/blob/master/Source%20Code/kadane.cpp)"
   ]
  },
  {
   "cell_type": "markdown",
   "metadata": {},
   "source": [
    "### [3. Reversing Subgroups of array](https://practice.geeksforgeeks.org/problems/reverse-array-in-groups/0)"
   ]
  },
  {
   "cell_type": "markdown",
   "metadata": {},
   "source": [
    "#### Approaches:"
   ]
  },
  {
   "cell_type": "markdown",
   "metadata": {},
   "source": [
    "        1. Use stack for each group to reverse and queue and vector to maintain the rest"
   ]
  },
  {
   "cell_type": "markdown",
   "metadata": {},
   "source": [
    "#### [Code: Reversing Subgroups of array](https://github.com/bathejaakshay/Competitive-Problems-in-C-/blob/master/Source%20Code/reversegroup.cpp)"
   ]
  },
  {
   "cell_type": "markdown",
   "metadata": {},
   "source": [
    "### [4. Number of inversions](https://practice.geeksforgeeks.org/problems/inversion-of-array/0/)"
   ]
  },
  {
   "cell_type": "markdown",
   "metadata": {},
   "source": [
    "#### Approahes:\n"
   ]
  },
  {
   "cell_type": "markdown",
   "metadata": {},
   "source": [
    "1. For each element findout the number of element greater than itself at the right of that element. T(n) = O(n^2) \n",
    "2. Use merge sort to find the no. of inversions as it compares all the elements T(n) = O(nlog(n))\n",
    "\t\t\t\t\n",
    "Approach 2. While merging two already sorted list whenever a[left]>a[right] , increment number of inversions by number of elements at right side of the \"left\" position in vector a.\n",
    "\t\t\t\t"
   ]
  },
  {
   "cell_type": "markdown",
   "metadata": {},
   "source": [
    "#### [Code: Number of inversions](https://github.com/bathejaakshay/Competitive-Problems-in-C-/blob/master/Source%20Code/invopt.cpp)"
   ]
  },
  {
   "cell_type": "markdown",
   "metadata": {},
   "source": [
    "### [5. Minimum number of train platforms required](https://practice.geeksforgeeks.org/problems/minimum-platforms/0)"
   ]
  },
  {
   "cell_type": "markdown",
   "metadata": {},
   "source": [
    "#### Approaches:"
   ]
  },
  {
   "cell_type": "markdown",
   "metadata": {},
   "source": [
    "1. Use ***multimaps*** to store arrival and departure times like (10:00,'a'),(11:30,'d'). By default multimaps are sorted on the first key so we can easily count maximum number of platforms required by keeping the track of number of trains arrived butnot yet departed till a particular time. T(n) = O(n)"
   ]
  },
  {
   "cell_type": "markdown",
   "metadata": {},
   "source": [
    "#### [Code: Minimum Number of train platforms](https://github.com/bathejaakshay/Competitive-Problems-in-C-/blob/master/Source%20Code/train.cpp)"
   ]
  },
  {
   "cell_type": "markdown",
   "metadata": {},
   "source": [
    "### [6. Maximum of all subarrays of size k](https://practice.geeksforgeeks.org/problems/maximum-of-all-subarrays-of-size-k/0/)"
   ]
  },
  {
   "cell_type": "markdown",
   "metadata": {},
   "source": [
    "#### Approaches:"
   ]
  },
  {
   "cell_type": "markdown",
   "metadata": {},
   "source": [
    "1. Using brute force method i.e finding maximum for each window linearly. ```T(n) = O(n^2)```\n",
    "2. Using hashmaps. Pushing contents of window into hashmaps and finding max. Insertion and Deletion from hashmaps takes O(logn) time as hashmap uses Balance BST to store data and they keep them in sorted order. ```T(n) = O(nlogn)```\n",
    "3. Using **Deque**. (In Deque insertion and deletion at both end is possible and it keeps the element sorted). ```T(n) = O(n)```\n",
    "    \n",
    "    Algo for Deque approach:\n",
    "    Let total array size is n and window size is k and deque size is also k. Remeber: Deque will only store indeces as it already will be in sorted order.\n",
    "    \n"
   ]
  },
  {
   "cell_type": "markdown",
   "metadata": {},
   "source": [
    "```\n",
    "    \n",
    "   Step 1: for i=0  to k-1                                        (first window):\n",
    "                 \n",
    "                 a. if q is empty then q.push_back(i)\n",
    "                    else:\n",
    "                      while (q is not empty and a[i]>a[q.back()] ):\n",
    "                          q.pop_back(i)\n",
    "                      q.push_back(i)\n",
    "                 b. print a[q.front()]                            (max of first window)\n",
    "   \n",
    "   Step 2: for i=k till n-1                                       (for rest of the windows)\n",
    "                 \n",
    "                 a. if q.front()<n-k+1 then q.pop_front()         (if new window contains index out of window i.e of \n",
    "                                                                   previous window then remove it)\n",
    "                 \n",
    "                    else:\n",
    "                        if q is empty then q.push_back(i)\n",
    "                        else:\n",
    "                          while (q is not empty and a[i]>a[q.back()] ):\n",
    "                              q.pop_back(i)\n",
    "                          q.push_back(i)\n",
    "                          \n",
    "                 b. print a[q.front()]                             (maximum of new window)\n",
    "                    \n",
    "                \n",
    "```"
   ]
  },
  {
   "cell_type": "markdown",
   "metadata": {},
   "source": [
    "#### [Code: Maximum of subarrays of size k](https://github.com/bathejaakshay/Competitive-Problems-in-C-/blob/master/Source%20Code/subgroupsmax.cpp)"
   ]
  },
  {
   "cell_type": "markdown",
   "metadata": {},
   "source": [
    "### [7. Peak Element](https://practice.geeksforgeeks.org/problems/peak-element/1)"
   ]
  },
  {
   "cell_type": "markdown",
   "metadata": {},
   "source": [
    "#### Approaches:\n"
   ]
  },
  {
   "cell_type": "markdown",
   "metadata": {},
   "source": [
    "1. This is an exception case where we can use binary search in an unsorted array because we have to provide any index which is at its peak. ```T(n) = O(log n)```"
   ]
  },
  {
   "cell_type": "markdown",
   "metadata": {},
   "source": [
    "```\n",
    "Algo :\n",
    "Using binary search approach :\n",
    "Bsearch(int a[],left,right,n) \n",
    "\n",
    "if(left<=right)\n",
    "1. q = (left+right)/2\n",
    "2. if q is 0 :\n",
    "    if a[q]>=a[q+1]: return q\n",
    "    else return Bsearch(a,q+1,right,n)       // we will search at right of q=0 cuz we certainly know that alteast a[q+1] > a[q]\n",
    "\n",
    "3. else if q is n-1 :\n",
    "    if a[q]>=a[q-1]: return q\n",
    "    else return Bsearch(a,left,q-1,n)     // we will search at left of q=n-1 cuz we certainly know that alteast a[q-1] > a[q]\n",
    "4. else:\n",
    "    if a[q]>= a[q-1] and a[q] >= a[q+1] : return q\n",
    "    \n",
    "    else if a[q] < a[q-1]:\n",
    "        return Bsearch(a,left,q-1,n)     // we will search at left of q cuz we certainly know that alteast a[q-1] > a[q] \n",
    "    \n",
    "    else if a[q]<a[q+1]:\n",
    "        return Bsearch(a,q+1,right,n)    // we will search at right of q cuz we certainly know that alteast a[q+1] > a[q]\n",
    "5. Done\n",
    "\n",
    "```"
   ]
  },
  {
   "cell_type": "markdown",
   "metadata": {},
   "source": [
    "#### [Code: Peak element](https://github.com/bathejaakshay/Competitive-Problems-in-C-/blob/master/Source%20Code/peakelement.cpp)"
   ]
  },
  {
   "cell_type": "code",
   "execution_count": null,
   "metadata": {},
   "outputs": [],
   "source": []
  }
 ],
 "metadata": {
  "kernelspec": {
   "display_name": "Python 3",
   "language": "python",
   "name": "python3"
  },
  "language_info": {
   "codemirror_mode": {
    "name": "ipython",
    "version": 3
   },
   "file_extension": ".py",
   "mimetype": "text/x-python",
   "name": "python",
   "nbconvert_exporter": "python",
   "pygments_lexer": "ipython3",
   "version": "3.8.5"
  }
 },
 "nbformat": 4,
 "nbformat_minor": 4
}
